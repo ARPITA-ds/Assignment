{
 "cells": [
  {
   "cell_type": "code",
   "execution_count": 3,
   "id": "cbfe51fe",
   "metadata": {},
   "outputs": [
    {
     "name": "stdout",
     "output_type": "stream",
     "text": [
      "enter 1st no:-12\n",
      "enter 2nd no:-24\n",
      "24\n"
     ]
    }
   ],
   "source": [
    "a=int(input(\"enter 1st no:-\"))\n",
    "b=int(input(\"enter 2nd no:-\"))\n",
    "if(a>b):\n",
    "    max=a\n",
    "else:\n",
    "    max=b\n",
    "while(True):\n",
    "    if(max%a==0 and max%b==0):\n",
    "        print(max)\n",
    "        break\n",
    "    max=max+1"
   ]
  },
  {
   "cell_type": "code",
   "execution_count": 6,
   "id": "5021665c",
   "metadata": {},
   "outputs": [],
   "source": [
    "def hcf(a,b):\n",
    "    if a>b:\n",
    "        small=a\n",
    "    else:\n",
    "        small=b\n",
    "        \n",
    "    for i in range(1,small+1):\n",
    "        if(a%i==0 and b%i==0):\n",
    "            hcf=i\n",
    "    return hcf"
   ]
  },
  {
   "cell_type": "code",
   "execution_count": 7,
   "id": "76065687",
   "metadata": {},
   "outputs": [
    {
     "data": {
      "text/plain": [
       "6"
      ]
     },
     "execution_count": 7,
     "metadata": {},
     "output_type": "execute_result"
    }
   ],
   "source": [
    "hcf(54,24)"
   ]
  },
  {
   "cell_type": "code",
   "execution_count": 8,
   "id": "177b28ca",
   "metadata": {},
   "outputs": [
    {
     "name": "stdout",
     "output_type": "stream",
     "text": [
      "enter the decimal value:-344\n",
      "0b101011000 is binary\n",
      "0o530 is binary\n",
      "0x158 is binary\n"
     ]
    }
   ],
   "source": [
    "a=int(input(\"enter the decimal value:-\"))\n",
    "print(bin(a),\"is binary\")\n",
    "print(oct(a),\"is binary\")\n",
    "print(hex(a),\"is binary\")"
   ]
  },
  {
   "cell_type": "code",
   "execution_count": 10,
   "id": "01f991b0",
   "metadata": {},
   "outputs": [
    {
     "name": "stdout",
     "output_type": "stream",
     "text": [
      "enter the character:-J\n",
      "the ASCII value ofJis 74\n"
     ]
    }
   ],
   "source": [
    "a=input(\"enter the character:-\")\n",
    "print(\"the ASCII value of\"+a+\"is\",ord(a))"
   ]
  },
  {
   "cell_type": "code",
   "execution_count": 6,
   "id": "837f46fe",
   "metadata": {},
   "outputs": [
    {
     "name": "stdout",
     "output_type": "stream",
     "text": [
      "select the operation:-\n",
      "1.Add\n",
      "2.Subtract\n",
      "3.Multiply\n",
      "4.Divison\n",
      "enter choice(1/2/3/4):no\n",
      "invalid output\n",
      "enter choice(1/2/3/4):3\n",
      "enter the 1st number:-12\n",
      "enter the 2nd number:-3\n",
      "36.0\n"
     ]
    },
    {
     "ename": "NameError",
     "evalue": "name 'next_calculate' is not defined",
     "output_type": "error",
     "traceback": [
      "\u001b[1;31m---------------------------------------------------------------------------\u001b[0m",
      "\u001b[1;31mNameError\u001b[0m                                 Traceback (most recent call last)",
      "\u001b[1;32m~\\AppData\\Local\\Temp/ipykernel_17644/3207150838.py\u001b[0m in \u001b[0;36m<module>\u001b[1;34m\u001b[0m\n\u001b[0;32m     30\u001b[0m             \u001b[0mprint\u001b[0m\u001b[1;33m(\u001b[0m\u001b[0mdivide\u001b[0m\u001b[1;33m(\u001b[0m\u001b[0mnum1\u001b[0m\u001b[1;33m,\u001b[0m\u001b[0mnum2\u001b[0m\u001b[1;33m)\u001b[0m\u001b[1;33m)\u001b[0m\u001b[1;33m\u001b[0m\u001b[1;33m\u001b[0m\u001b[0m\n\u001b[0;32m     31\u001b[0m \u001b[1;33m\u001b[0m\u001b[0m\n\u001b[1;32m---> 32\u001b[1;33m         \u001b[1;32mif\u001b[0m \u001b[0mnext_calculate\u001b[0m \u001b[1;33m==\u001b[0m\u001b[1;34m\"no\"\u001b[0m\u001b[1;33m:\u001b[0m\u001b[1;33m\u001b[0m\u001b[1;33m\u001b[0m\u001b[0m\n\u001b[0m\u001b[0;32m     33\u001b[0m             \u001b[1;32mbreak\u001b[0m\u001b[1;33m\u001b[0m\u001b[1;33m\u001b[0m\u001b[0m\n\u001b[0;32m     34\u001b[0m \u001b[1;33m\u001b[0m\u001b[0m\n",
      "\u001b[1;31mNameError\u001b[0m: name 'next_calculate' is not defined"
     ]
    }
   ],
   "source": [
    "def add(x,y):\n",
    "    return x+y\n",
    "def sub(x,y):\n",
    "    return x-y\n",
    "def multiply(x,y):\n",
    "    return x*y\n",
    "def divide(x,y):\n",
    "    return x/y\n",
    "\n",
    "print(\"select the operation:-\")\n",
    "print(\"1.Add\")\n",
    "print(\"2.Subtract\")\n",
    "print(\"3.Multiply\")\n",
    "print(\"4.Divison\")\n",
    "\n",
    "while(True):\n",
    "    choice=input(\"enter choice(1/2/3/4):\")\n",
    "    \n",
    "    if choice in ('1','2','3','4'):\n",
    "        num1=float(input(\"enter the 1st number:-\"))\n",
    "        num2=float(input(\"enter the 2nd number:-\"))\n",
    "        \n",
    "        if choice =='1':\n",
    "            print(add(num1,num2))\n",
    "        elif choice=='2':\n",
    "            print(sub(num1,num2))\n",
    "        elif choice=='3':\n",
    "            print(multiply(num1,num2))\n",
    "        elif choice=='4':\n",
    "            print(divide(num1,num2))\n",
    "        \n",
    "        if next_calculate ==\"no\":\n",
    "            break\n",
    "            \n",
    "    else:\n",
    "        print(\"invalid output\")"
   ]
  },
  {
   "cell_type": "code",
   "execution_count": null,
   "id": "d074c815",
   "metadata": {},
   "outputs": [],
   "source": []
  }
 ],
 "metadata": {
  "kernelspec": {
   "display_name": "Python 3 (ipykernel)",
   "language": "python",
   "name": "python3"
  },
  "language_info": {
   "codemirror_mode": {
    "name": "ipython",
    "version": 3
   },
   "file_extension": ".py",
   "mimetype": "text/x-python",
   "name": "python",
   "nbconvert_exporter": "python",
   "pygments_lexer": "ipython3",
   "version": "3.9.7"
  }
 },
 "nbformat": 4,
 "nbformat_minor": 5
}
