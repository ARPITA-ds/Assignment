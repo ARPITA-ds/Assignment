{
 "cells": [
  {
   "cell_type": "code",
   "execution_count": 1,
   "id": "576c362d",
   "metadata": {},
   "outputs": [
    {
     "name": "stdout",
     "output_type": "stream",
     "text": [
      "enter the number to be checked0\n",
      "the no is zero 0\n"
     ]
    }
   ],
   "source": [
    "\"\"\"check number is positive negative or zero\"\"\"\n",
    "a=int(input(\"enter the number to be checked\"))\n",
    "if a>0:\n",
    "    print(\"the no is positive\",a)\n",
    "elif a<0:\n",
    "    print(\"the no is negative\",a)\n",
    "else:\n",
    "    print(\"the no is zero\",a)"
   ]
  },
  {
   "cell_type": "code",
   "execution_count": 4,
   "id": "88288785",
   "metadata": {},
   "outputs": [
    {
     "name": "stdout",
     "output_type": "stream",
     "text": [
      "enter the number to be checked5\n",
      "the number is odd\n"
     ]
    }
   ],
   "source": [
    "\"\"\"check if a number is odd or even\"\"\"\n",
    "a=int(input(\"enter the number to be checked\"))\n",
    "if (a/2==0):\n",
    "    print(\"the number is even\")\n",
    "else:\n",
    "    print(\"the number is odd\")"
   ]
  },
  {
   "cell_type": "code",
   "execution_count": 6,
   "id": "e93b226b",
   "metadata": {},
   "outputs": [
    {
     "name": "stdout",
     "output_type": "stream",
     "text": [
      "Enter the year2022\n",
      "not a leap year\n"
     ]
    }
   ],
   "source": [
    "\"\"\"to check if the year is leap year\"\"\"\n",
    "year=int(input(\"Enter the year\"))\n",
    "if (year%400==0) and (year%100==0):\n",
    "    print(\"leap year\")\n",
    "elif (year%4==0) and (year%100!=0):\n",
    "    print(\"leap year\")\n",
    "else:\n",
    "    print(\"not a leap year\")\n",
    "    "
   ]
  },
  {
   "cell_type": "code",
   "execution_count": 14,
   "id": "75763df8",
   "metadata": {},
   "outputs": [
    {
     "name": "stdout",
     "output_type": "stream",
     "text": [
      "enter the number to be checked5\n",
      "prime number 5\n"
     ]
    }
   ],
   "source": [
    "\"\"\"TO CHECK ALL THE PRIME NUMBER\"\"\"\n",
    "num=int(input(\"enter the number to be checked\"))\n",
    "flag=False\n",
    "if num >1:\n",
    "    for i in range (2,int(num/2)+1):\n",
    "        if(num%2==0):\n",
    "            flag=True\n",
    "            break\n",
    "        \n",
    "    if flag:\n",
    "        print(\"not a prime number\",num)\n",
    "    \n",
    "    else:\n",
    "        print(\"prime number\",num)\n",
    "        \n",
    "else:\n",
    "    print(\"not a prime\",num)\n",
    "        "
   ]
  },
  {
   "cell_type": "code",
   "execution_count": 17,
   "id": "6a4aa4f2",
   "metadata": {},
   "outputs": [],
   "source": [
    "def prime(x, y):\n",
    "    prime_list = []\n",
    "    for i in range(x, y):\n",
    "        if i == 0 or i == 1:\n",
    "            continue\n",
    "        else:\n",
    "            for j in range(2, int(i/2)+1):\n",
    "                if i % j == 0:\n",
    "                    break\n",
    "            else:\n",
    "                prime_list.append(i)\n",
    "    return prime_list"
   ]
  },
  {
   "cell_type": "code",
   "execution_count": 18,
   "id": "ef348bf8",
   "metadata": {},
   "outputs": [
    {
     "data": {
      "text/plain": [
       "[2,\n",
       " 3,\n",
       " 5,\n",
       " 7,\n",
       " 11,\n",
       " 13,\n",
       " 17,\n",
       " 19,\n",
       " 23,\n",
       " 29,\n",
       " 31,\n",
       " 37,\n",
       " 41,\n",
       " 43,\n",
       " 47,\n",
       " 53,\n",
       " 59,\n",
       " 61,\n",
       " 67,\n",
       " 71,\n",
       " 73,\n",
       " 79,\n",
       " 83,\n",
       " 89,\n",
       " 97]"
      ]
     },
     "execution_count": 18,
     "metadata": {},
     "output_type": "execute_result"
    }
   ],
   "source": [
    "prime(1,100)"
   ]
  },
  {
   "cell_type": "code",
   "execution_count": null,
   "id": "14663b75",
   "metadata": {},
   "outputs": [],
   "source": []
  }
 ],
 "metadata": {
  "kernelspec": {
   "display_name": "Python 3 (ipykernel)",
   "language": "python",
   "name": "python3"
  },
  "language_info": {
   "codemirror_mode": {
    "name": "ipython",
    "version": 3
   },
   "file_extension": ".py",
   "mimetype": "text/x-python",
   "name": "python",
   "nbconvert_exporter": "python",
   "pygments_lexer": "ipython3",
   "version": "3.9.7"
  }
 },
 "nbformat": 4,
 "nbformat_minor": 5
}
