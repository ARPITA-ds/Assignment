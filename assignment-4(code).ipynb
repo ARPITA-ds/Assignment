{
 "cells": [
  {
   "cell_type": "code",
   "execution_count": 1,
   "id": "eb65cbe0",
   "metadata": {},
   "outputs": [],
   "source": [
    "import logging\n",
    "logging.basicConfig(filename=\"fact.log\",level=logging.DEBUG,format='%(asctime)s%(levelname)s%(message)s')"
   ]
  },
  {
   "cell_type": "code",
   "execution_count": 2,
   "id": "78a3f404",
   "metadata": {},
   "outputs": [],
   "source": [
    "def fact_orial(a):\n",
    "    logging.info(\"start of my code %s\",a)\n",
    "    try:\n",
    "        fact=1\n",
    "        if a<0:\n",
    "            logging.info(\"factorial doesn't exist for -ve no\")\n",
    "        elif a==0:\n",
    "            logging.info(\"factorial of zero is 1\")\n",
    "        else:\n",
    "            for i in range(1,a+1):\n",
    "                fact=fact*i\n",
    "                logging.info(\"factorial of a number %s\",fact)\n",
    "    except Exception as e:\n",
    "        logging.error(\"error occured\")\n",
    "        logging.exception(\"exception occured\"+str(e))"
   ]
  },
  {
   "cell_type": "code",
   "execution_count": 4,
   "id": "9804571a",
   "metadata": {},
   "outputs": [],
   "source": [
    "fact_orial(0)"
   ]
  },
  {
   "cell_type": "code",
   "execution_count": 10,
   "id": "4ace7297",
   "metadata": {},
   "outputs": [
    {
     "data": {
      "text/plain": [
       "'C:\\\\Users\\\\HP\\\\Downloads'"
      ]
     },
     "execution_count": 10,
     "metadata": {},
     "output_type": "execute_result"
    }
   ],
   "source": [
    "pwd()"
   ]
  },
  {
   "cell_type": "code",
   "execution_count": 14,
   "id": "e4a29388",
   "metadata": {},
   "outputs": [
    {
     "name": "stdout",
     "output_type": "stream",
     "text": [
      "take a number for multiplication3\n",
      "3 x 1 = 3\n",
      "3 x 2 = 6\n",
      "3 x 3 = 9\n",
      "3 x 4 = 12\n",
      "3 x 5 = 15\n",
      "3 x 6 = 18\n",
      "3 x 7 = 21\n",
      "3 x 8 = 24\n",
      "3 x 9 = 27\n",
      "3 x 10 = 30\n"
     ]
    }
   ],
   "source": [
    "numb=int(input(\"take a number for multiplication\"))\n",
    "for i in range(1,11):\n",
    "            t=numb*i\n",
    "            print(numb,'x',i,'=',t)"
   ]
  },
  {
   "cell_type": "code",
   "execution_count": 13,
   "id": "84c8a155",
   "metadata": {},
   "outputs": [
    {
     "name": "stdout",
     "output_type": "stream",
     "text": [
      "Enter the no:8\n",
      "0\n",
      "1\n",
      "1\n",
      "2\n",
      "3\n",
      "5\n",
      "8\n",
      "13\n",
      "21\n"
     ]
    }
   ],
   "source": [
    "n=int(input(\"Enter the no:\"))\n",
    "a=1\n",
    "b=0\n",
    "if n<0:\n",
    "    print(\"error\")\n",
    "elif n==0:\n",
    "    print(b)\n",
    "elif n==1:\n",
    "    print(a) \n",
    "else:\n",
    "    print(b)\n",
    "    print(a)\n",
    "    for i in range(1,n):\n",
    "        c=a+b\n",
    "        b=a\n",
    "        a=c\n",
    "        print(a) "
   ]
  },
  {
   "cell_type": "code",
   "execution_count": 2,
   "id": "ead7cc5a",
   "metadata": {},
   "outputs": [
    {
     "name": "stdout",
     "output_type": "stream",
     "text": [
      "enter the number:-153\n",
      "its a armstrong number\n"
     ]
    }
   ],
   "source": [
    "n=int(input(\"enter the number:-\"))\n",
    "temp=n\n",
    "sum=0\n",
    "while temp>0:\n",
    "    s=temp%10\n",
    "    m=s**3\n",
    "    sum=sum+m\n",
    "    temp=temp//10\n",
    "    \n",
    "if (n==sum):\n",
    "    print(\"its a armstrong number\")\n",
    "else:\n",
    "    print(\"not an armstrong\")"
   ]
  },
  {
   "cell_type": "code",
   "execution_count": 6,
   "id": "934d39f5",
   "metadata": {},
   "outputs": [
    {
     "name": "stdout",
     "output_type": "stream",
     "text": [
      "125\n",
      "153\n",
      "216\n",
      "370\n",
      "371\n",
      "407\n",
      "729\n"
     ]
    }
   ],
   "source": [
    "\n",
    "for i in range(100,1000):\n",
    "    sum=0\n",
    "    temp=i\n",
    "    while temp>0:\n",
    "            s=temp%10\n",
    "            m=s**3\n",
    "            sum=sum+m\n",
    "            temp=temp//10\n",
    "    \n",
    "            if i==sum:\n",
    "              print(i)\n",
    "    "
   ]
  },
  {
   "cell_type": "code",
   "execution_count": 22,
   "id": "72eb7907",
   "metadata": {},
   "outputs": [
    {
     "name": "stdout",
     "output_type": "stream",
     "text": [
      "enter the number:-16\n",
      "136\n"
     ]
    }
   ],
   "source": [
    "num=int(input(\"enter the number:-\"))\n",
    "if num <0:\n",
    "    raise Exception(\"negative numbers not allowed\")\n",
    "else:\n",
    "    sum=0\n",
    "    while(num>0):\n",
    "        sum=sum+num\n",
    "        num=num-1\n",
    "    print(sum)"
   ]
  },
  {
   "cell_type": "code",
   "execution_count": null,
   "id": "708f899b",
   "metadata": {},
   "outputs": [],
   "source": []
  }
 ],
 "metadata": {
  "kernelspec": {
   "display_name": "Python 3 (ipykernel)",
   "language": "python",
   "name": "python3"
  },
  "language_info": {
   "codemirror_mode": {
    "name": "ipython",
    "version": 3
   },
   "file_extension": ".py",
   "mimetype": "text/x-python",
   "name": "python",
   "nbconvert_exporter": "python",
   "pygments_lexer": "ipython3",
   "version": "3.9.7"
  }
 },
 "nbformat": 4,
 "nbformat_minor": 5
}
