{
 "cells": [
  {
   "cell_type": "code",
   "execution_count": 8,
   "id": "1801a60a",
   "metadata": {},
   "outputs": [],
   "source": [
    "#1. In the below elements which of them are values or an expression? \n",
    "#eg:- values can be integer or string and expressions will be mathematical operators.\n",
    "#   *=expression \n",
    "#  'hello'=value\n",
    "#   -87.8=value\n",
    "#   -=expression \n",
    "#   /=expression \n",
    "#   +=expression\n",
    "# 6=value \n",
    "\n",
    "#2. What is the difference between string and variable?\n",
    "# Variable is used to store a data set and string values are quoted inside double quotes.\n",
    "# example=\n",
    "      # variable a=10\n",
    "      # String  a=\"Arpita\"\n",
    "        \n",
    "#3. Describe three different data types.\n",
    "# list= A collection of data within [] , Example= l=[1,34,56]\n",
    "# Tuple=A collection of data in ( ),Tuple is used where fixed sizes are available,Example=(1,23,56)\n",
    "# Dictionary=A collection of data within {},Example={\"key1\":123,\"key2\":[1,2,3,4]}\n",
    "\n",
    "#4. What is an expression made up of? What do all expressions do?\n",
    "# An expression is a combination of values,variables,operators and calls to function.\n",
    "# An expression is an instruction which interpreter evaluates and displays the result.\n",
    "\n",
    "#5. This assignment statements, like spam = 10. What is the difference between an expression and a statement?\n",
    "# An expression is a combination of values,variables,operators and calls to function.\n",
    "# An expression is an instruction which interpreter evaluates and displays the result.\n",
    "# whereas statement is the smallest executable unit of code that has an effect like creating a variable or displaying a value.\n",
    "\n",
    "#6. After running the following code, what does the variable bacon contain?\n",
    "# bacon = 22\n",
    "# bacon + 1\n",
    "# o/p=23\n",
    "\n",
    "#7. What should the values of the following two terms be?\n",
    "#'spam' + 'spamspam'=o/p=spamspamspam\n",
    "#'spam' * 3=o/p=spamspamspam\n",
    "\n",
    "#8. Why is eggs a valid variable name while 100 is invalid?\n",
    "# because variable name cannot start with inetger.\n",
    "\n",
    "#9. What three functions can be used to get the integer, floating-point number, or string version of a value?\n",
    "   # int(),float(),str()\n",
    "    \n",
    "#10 10. Why does this expression cause an error? How can you fix it?\n",
    "#'I have eaten ' + 99 + ' burritos.'\n",
    " \n",
    "    # it causes error because \"i have eaten\" and \"burritos \" both are string but 99 is a integer so we need to convert integer to string.\n",
    "    # to fix it we need to convert 99 to string i.e \"99\".\n"
   ]
  },
  {
   "cell_type": "code",
   "execution_count": null,
   "id": "cfacb7ca",
   "metadata": {},
   "outputs": [],
   "source": []
  },
  {
   "cell_type": "code",
   "execution_count": null,
   "id": "e7e257e6",
   "metadata": {},
   "outputs": [],
   "source": []
  },
  {
   "cell_type": "code",
   "execution_count": null,
   "id": "c712a995",
   "metadata": {},
   "outputs": [],
   "source": []
  }
 ],
 "metadata": {
  "kernelspec": {
   "display_name": "Python 3 (ipykernel)",
   "language": "python",
   "name": "python3"
  },
  "language_info": {
   "codemirror_mode": {
    "name": "ipython",
    "version": 3
   },
   "file_extension": ".py",
   "mimetype": "text/x-python",
   "name": "python",
   "nbconvert_exporter": "python",
   "pygments_lexer": "ipython3",
   "version": "3.9.7"
  }
 },
 "nbformat": 4,
 "nbformat_minor": 5
}
