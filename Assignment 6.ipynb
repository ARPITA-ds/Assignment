{
 "cells": [
  {
   "cell_type": "code",
   "execution_count": 1,
   "id": "666af3f5",
   "metadata": {},
   "outputs": [
    {
     "name": "stdout",
     "output_type": "stream",
     "text": [
      "Enter number of terms:4\n",
      "Fibonacci sequence:\n",
      "0\n",
      "1\n",
      "1\n",
      "2\n"
     ]
    }
   ],
   "source": [
    "# Fibonacci sequence using recursion\n",
    "def fibo(n):\n",
    "    if(n == 1):\n",
    "        return 0\n",
    "    if(n==2):\n",
    "        return 1\n",
    "    \n",
    "    else:\n",
    "        return(fibo(n-1) + fibo(n-2))\n",
    "    \n",
    "n = int(input(\"Enter number of terms:\"))\n",
    "\n",
    "print(\"Fibonacci sequence:\")\n",
    "\n",
    "for i in range(1,n+1):\n",
    "    print(fibo(i))"
   ]
  },
  {
   "cell_type": "code",
   "execution_count": 2,
   "id": "80ea8a89",
   "metadata": {},
   "outputs": [
    {
     "name": "stdout",
     "output_type": "stream",
     "text": [
      "Enter the number5\n"
     ]
    },
    {
     "data": {
      "text/plain": [
       "120"
      ]
     },
     "execution_count": 2,
     "metadata": {},
     "output_type": "execute_result"
    }
   ],
   "source": [
    "# Factorial of a number using recursion\n",
    "def fact(n):\n",
    "    if n==1:\n",
    "        return 1\n",
    "    else:\n",
    "        return(n*fact(n-1))\n",
    "\n",
    "n=int(input(\"Enter the number\"))\n",
    "fact(n)"
   ]
  },
  {
   "cell_type": "code",
   "execution_count": 3,
   "id": "37dfadd9",
   "metadata": {},
   "outputs": [
    {
     "name": "stdout",
     "output_type": "stream",
     "text": [
      "Input your height in Feet: 5\n",
      "Input your weight in Kilogram: 60\n",
      "Your body mass index is:  2.4\n"
     ]
    }
   ],
   "source": [
    "#Body mass index\n",
    "height = float(input(\"Input your height in Feet: \"))\n",
    "weight = float(input(\"Input your weight in Kilogram: \"))\n",
    "print(\"Your body mass index is: \", round(weight / (height * height), 2))"
   ]
  },
  {
   "cell_type": "code",
   "execution_count": 4,
   "id": "e1b87691",
   "metadata": {},
   "outputs": [
    {
     "name": "stdout",
     "output_type": "stream",
     "text": [
      "enter any no1\n",
      "natural log of n:- 0.0\n"
     ]
    }
   ],
   "source": [
    "#natural logarithm of a number\n",
    "import math\n",
    "n=int(input(\"enter any no\"))\n",
    "print(\"natural log of n:-\",math.log(n))"
   ]
  },
  {
   "cell_type": "code",
   "execution_count": null,
   "id": "d595b831",
   "metadata": {},
   "outputs": [],
   "source": [
    "# cube of first n natural no\n",
    "\n",
    "n=int(input(\"Enter the no\"))\n",
    "def sum(n):\n",
    "    sum = 0\n",
    "    for i in range(1, n+1):\n",
    "        sum +=i*i*i\n",
    "          \n",
    "    return sum\n",
    "  \n",
    "print(sum(n))"
   ]
  }
 ],
 "metadata": {
  "kernelspec": {
   "display_name": "Python 3 (ipykernel)",
   "language": "python",
   "name": "python3"
  },
  "language_info": {
   "codemirror_mode": {
    "name": "ipython",
    "version": 3
   },
   "file_extension": ".py",
   "mimetype": "text/x-python",
   "name": "python",
   "nbconvert_exporter": "python",
   "pygments_lexer": "ipython3",
   "version": "3.9.7"
  }
 },
 "nbformat": 4,
 "nbformat_minor": 5
}
