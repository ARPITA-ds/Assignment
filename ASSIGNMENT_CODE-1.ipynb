{
 "cells": [
  {
   "cell_type": "code",
   "execution_count": null,
   "id": "764c406e",
   "metadata": {},
   "outputs": [],
   "source": [
    "\"\"\"TO PRINT HELLO PYTHON\"\"\"\n",
    "print(\"HELLO PYTHON\")\n",
    "\n",
    "\"\"\"TO DO ARITHMETICAL OPERATIONS ADITTION AND DIVISON\"\"\"\n",
    "a=int(input())\n",
    "b=int(input())\n",
    "c=a+b\n",
    "d=a/b\n",
    "print(\"the value of addition\",c)\n",
    "print(\"the value of divison\",d)\n",
    "\n",
    "\"\"\"TO FIND THE AREA OF A TRIANGLE\"\"\"\n",
    "b=int(input())\n",
    "h=int(input())\n",
    "area_triangle=0.5*b*h\n",
    "print(\"The area of a triangle\",area_triangle)\n",
    "\n",
    "\"\"\"TO SWAP TWO VARIABLES\"\"\"\n",
    "a=int(input())\n",
    "b=int(input())\n",
    "d=a\n",
    "a=b\n",
    "b=d\n",
    "print(\"swap variables\",a,b)\n",
    "\n",
    "\"\"\"TO GENERATE A RANDOM NUMBER\"\"\"\n",
    "import random\n",
    "x = random.randint(1,10)\n",
    "print(x)"
   ]
  }
 ],
 "metadata": {
  "kernelspec": {
   "display_name": "Python 3 (ipykernel)",
   "language": "python",
   "name": "python3"
  },
  "language_info": {
   "codemirror_mode": {
    "name": "ipython",
    "version": 3
   },
   "file_extension": ".py",
   "mimetype": "text/x-python",
   "name": "python",
   "nbconvert_exporter": "python",
   "pygments_lexer": "ipython3",
   "version": "3.9.7"
  }
 },
 "nbformat": 4,
 "nbformat_minor": 5
}
