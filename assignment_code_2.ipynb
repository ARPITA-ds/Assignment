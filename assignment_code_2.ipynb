{
 "cells": [
  {
   "cell_type": "code",
   "execution_count": 1,
   "id": "8ed4bda0",
   "metadata": {},
   "outputs": [
    {
     "name": "stdout",
     "output_type": "stream",
     "text": [
      "1000\n",
      "converting kilometer to miles,the ans is 620.0\n"
     ]
    }
   ],
   "source": [
    "\"\"\"CONVERT KILOMETER TO MILES\"\"\"\n",
    "a=int(input())\n",
    "b=a*0.62\n",
    "print(\"converting kilometer to miles,the ans is\",b)"
   ]
  },
  {
   "cell_type": "code",
   "execution_count": 4,
   "id": "76cb4ec1",
   "metadata": {},
   "outputs": [
    {
     "name": "stdout",
     "output_type": "stream",
     "text": [
      "enter the temperature in celsius56\n",
      "the o/p in faherneit 132.8\n"
     ]
    }
   ],
   "source": [
    "\"\"\"celsius to faherneit\"\"\"\n",
    "c=int(input(\"enter the temperature in celsius\"))\n",
    "f=(c*float (9/5))+32\n",
    "print(\"the o/p in faherneit\",f)"
   ]
  },
  {
   "cell_type": "code",
   "execution_count": 1,
   "id": "cac55cf8",
   "metadata": {},
   "outputs": [
    {
     "name": "stdout",
     "output_type": "stream",
     "text": [
      "Display the year2022\n",
      "display the month01\n",
      "    January 2022\n",
      "Mo Tu We Th Fr Sa Su\n",
      "                1  2\n",
      " 3  4  5  6  7  8  9\n",
      "10 11 12 13 14 15 16\n",
      "17 18 19 20 21 22 23\n",
      "24 25 26 27 28 29 30\n",
      "31\n",
      "\n"
     ]
    }
   ],
   "source": [
    "\"\"\"DISPLAY CALENDER\"\"\"\n",
    "import calendar\n",
    "year=int(input(\"Display the year\"))\n",
    "month=int(input(\"display the month\"))\n",
    "print(calendar.month(year,month))"
   ]
  },
  {
   "cell_type": "code",
   "execution_count": 2,
   "id": "cbb38a77",
   "metadata": {},
   "outputs": [
    {
     "name": "stdout",
     "output_type": "stream",
     "text": [
      "enter the value of a1\n",
      "enter the value of b5\n",
      "enter the value of c6\n",
      "value of quadratic equation (-2+0j) (-3+0j)\n"
     ]
    }
   ],
   "source": [
    "\"\"\"WRITE A PROGRAM TO SOLVE QUADRATIC EQUATION\"\"\"\n",
    "import cmath\n",
    "a=int(input(\"enter the value of a\"))\n",
    "b=int(input(\"enter the value of b\"))\n",
    "c=int(input(\"enter the value of c\"))\n",
    "d=(b*b)-(4*a*c)\n",
    "x=(-b+cmath.sqrt(d))/(2*a)\n",
    "y=(-b-cmath.sqrt(d))/(2*a)\n",
    "print(\"value of quadratic equation\",x,y)"
   ]
  },
  {
   "cell_type": "code",
   "execution_count": 4,
   "id": "a06f48de",
   "metadata": {},
   "outputs": [
    {
     "name": "stdout",
     "output_type": "stream",
     "text": [
      "enter the value of a5\n",
      "enter the value of b4\n",
      "swapped value 4 5\n"
     ]
    }
   ],
   "source": [
    "\"\"\"SWAP TWO VARIABLES WITHOUT THIRD ONE\"\"\"\n",
    "a=int(input(\"enter the value of a\"))\n",
    "b=int(input(\"enter the value of b\"))\n",
    "a=a+b\n",
    "b=a-b\n",
    "a=a-b\n",
    "print(\"swapped value\",a,b)"
   ]
  },
  {
   "cell_type": "code",
   "execution_count": null,
   "id": "486b8552",
   "metadata": {},
   "outputs": [],
   "source": []
  }
 ],
 "metadata": {
  "kernelspec": {
   "display_name": "Python 3 (ipykernel)",
   "language": "python",
   "name": "python3"
  },
  "language_info": {
   "codemirror_mode": {
    "name": "ipython",
    "version": 3
   },
   "file_extension": ".py",
   "mimetype": "text/x-python",
   "name": "python",
   "nbconvert_exporter": "python",
   "pygments_lexer": "ipython3",
   "version": "3.9.7"
  }
 },
 "nbformat": 4,
 "nbformat_minor": 5
}
